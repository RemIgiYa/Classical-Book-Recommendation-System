{
  "nbformat": 4,
  "nbformat_minor": 0,
  "metadata": {
    "colab": {
      "name": "BookInfo.ipynb",
      "provenance": [],
      "collapsed_sections": []
    },
    "kernelspec": {
      "name": "python3",
      "display_name": "Python 3"
    }
  },
  "cells": [
    {
      "cell_type": "code",
      "metadata": {
        "id": "ETDRiO-gX_oe"
      },
      "source": [
        "# Some parts of the code were referenced from: https://gist.github.com/AO8/faa3f52d3d5eac63820cfa7ec2b24aa7\n",
        "\n",
        "import urllib.request\n",
        "import json\n",
        "\n",
        "while True:\n",
        "\n",
        "    base_api_link = \"https://www.googleapis.com/books/v1/volumes?q=isbn:\"\n",
        "    user_input = input(\"Enter ISBN: \").strip()\n",
        "\n",
        "    with urllib.request.urlopen(base_api_link + user_input) as f:\n",
        "        text = f.read()\n",
        "\n",
        "    decoded_text = text.decode(\"utf-8\")\n",
        "    obj = json.loads(decoded_text) # deserializes decoded_text to a Python object\n",
        "    volume_info = obj[\"items\"][0] \n",
        "    authors = obj[\"items\"][0][\"volumeInfo\"][\"authors\"]\n",
        "    \n",
        "    \n",
        "        \n",
        "    title = volume_info[\"volumeInfo\"][\"title\"]\n",
        "    summary = volume_info[\"searchInfo\"][\"textSnippet\"]\n",
        "    author = \",\".join(authors)\n",
        "  \n",
        "\n",
        "\n",
        "    # displays title, summary, author\n",
        "    print(\"\\nTitle:\", title)\n",
        "    print(\"\\nSummary:\\n\")\n",
        "    print(summary)\n",
        "    print(\"\\nAuthor(s):\", author)\n",
        "    print(\"\\n***\")\n",
        "    \n",
        "    filename = \"books.csv\"\n",
        "    \n",
        "    from csv import writer\n",
        "    def append_list_as_row(file_name, list_of_elem):\n",
        "        with open (file_name, 'a+', newline='') as write_obj:\n",
        "            csv_writer = writer(write_obj)\n",
        "            csv_writer.writerow(list_of_elem)\n",
        "    \n",
        "    row_contents = [title, summary, author]\n",
        "    \n",
        "    append_list_as_row(filename, row_contents)\n",
        "\n",
        "    status_update = input(\"\\nEnter another ISBN? y or n: \").lower().strip()\n",
        "\n",
        "    if status_update == \"n\":\n",
        "        print(\"\\nThank you!\")\n",
        "        break"
      ],
      "execution_count": null,
      "outputs": []
    }
  ]
}