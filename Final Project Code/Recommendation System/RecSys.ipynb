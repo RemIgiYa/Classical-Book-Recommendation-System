{
  "nbformat": 4,
  "nbformat_minor": 0,
  "metadata": {
    "colab": {
      "name": "RecSys.ipynb",
      "provenance": [],
      "machine_shape": "hm"
    },
    "kernelspec": {
      "name": "ir",
      "display_name": "R"
    },
    "language_info": {
      "name": "R"
    }
  },
  "cells": [
    {
      "cell_type": "code",
      "metadata": {
        "id": "OrCjlIlF1kws"
      },
      "source": [
        "#this line is needed when running the code in Google Colab because otherwise some packages won't work\n",
        "system2('sudo', 'apt-get install libgsl0-dev')"
      ],
      "execution_count": null,
      "outputs": []
    },
    {
      "cell_type": "code",
      "metadata": {
        "id": "w6nEpJ7Uznby"
      },
      "source": [
        "install.packages(\"gutenbergr\")\n",
        "install.packages(\"tidytext\")\n",
        "install.packages(\"data.table\")\n",
        "install.packages(\"topicmodels\")\n",
        "install.packages(\"reshape2\")"
      ],
      "execution_count": null,
      "outputs": []
    },
    {
      "cell_type": "code",
      "metadata": {
        "id": "3LmZF9uto-fY"
      },
      "source": [
        "library(dplyr)\n",
        "library(data.table)\n",
        "library(gutenbergr)\n",
        "library(tidytext)\n",
        "library(topicmodels)\n",
        "library(tidyr)\n",
        "library(reshape2)"
      ],
      "execution_count": null,
      "outputs": []
    },
    {
      "cell_type": "code",
      "metadata": {
        "id": "_sP7byW7pKvi"
      },
      "source": [
        "##list of the modern books and their summaries\n",
        "gBooks<-read.csv(\"books.csv\")\n",
        "names(gBooks)[1] <- \"title\""
      ],
      "execution_count": null,
      "outputs": []
    },
    {
      "cell_type": "code",
      "metadata": {
        "id": "k9NAxLzspLHn"
      },
      "source": [
        "#topics for the modern books, gained from running the modern books through the LDA model\n",
        "GldaTopics <- read.csv(\"LDAtopics.csv\")\n",
        "\n",
        "GldaTopics <- subset(GldaTopics, select = c(title, LDAtopics))"
      ],
      "execution_count": null,
      "outputs": []
    },
    {
      "cell_type": "code",
      "metadata": {
        "id": "tJLC9O9UpLYC"
      },
      "source": [
        "#modern books merged with the LDA topics into one dataset\n",
        "gBooks <- merge(x=gBooks, y=GldaTopics, by = \"title\", all.y=TRUE)"
      ],
      "execution_count": null,
      "outputs": []
    },
    {
      "cell_type": "code",
      "metadata": {
        "id": "5b9SwwccpLjK"
      },
      "source": [
        "#top 5 words for each topic, gained through the LDA model\n",
        "TopWbTopic <- read.csv(\"SummaryTopTermsbyTopic.csv\")\n",
        "\n",
        "TopWbTopic<- subset(TopWbTopic, select = c(topic, term))"
      ],
      "execution_count": null,
      "outputs": []
    },
    {
      "cell_type": "code",
      "metadata": {
        "id": "wSANnSW5pniZ"
      },
      "source": [
        "# all the top words added into a single cell\n",
        "TopWbTopic<- as.data.table(TopWbTopic)[, toString(term), by = list(topic)]\n",
        "\n",
        "#renaming one of the columns\n",
        "names(TopWbTopic)[1] <- \"LDAtopics\""
      ],
      "execution_count": null,
      "outputs": []
    },
    {
      "cell_type": "code",
      "metadata": {
        "id": "Sm2avMjQprau"
      },
      "source": [
        "#merging with modern books dataset, now the dataset also has a row for the top words related to each topic\n",
        "gBooks2 <- merge(x=TopWbTopic, y=gBooks, by = \"LDAtopics\", all.y=TRUE)"
      ],
      "execution_count": null,
      "outputs": []
    },
    {
      "cell_type": "code",
      "metadata": {
        "id": "PdN78h57pvCd"
      },
      "source": [
        "#sampling of books to create a dummy user with random favourite books\n",
        "set.seed(20)\n",
        "SampleUser <- sample_n(gBooks2, 5)"
      ],
      "execution_count": null,
      "outputs": []
    },
    {
      "cell_type": "code",
      "metadata": {
        "id": "hlZB2aBLpznP"
      },
      "source": [
        "#sample of classical books\n",
        "\n",
        "fictionalBooks<-read.csv(\"fictionalBooks.csv\")\n",
        "\n",
        "set.seed(20)\n",
        "sample <- sample_n(fictionalBooks, 1000)"
      ],
      "execution_count": null,
      "outputs": []
    },
    {
      "cell_type": "code",
      "metadata": {
        "id": "5tek2h3wqGnM"
      },
      "source": [
        "bookText = data.frame()\n",
        "\n",
        "#getting the text for the sample of classical books\n",
        "for (i in 1:dim(sample)[1]){\n",
        "  bookText <- rbind(bookText, gutenberg_download(sample$gutenberg_id[i], meta_fields = \"title\", mirror = \"http://www.mirrorservice.org/sites/ftp.ibiblio.org/pub/docs/books/gutenberg/\"))\n",
        "}"
      ],
      "execution_count": null,
      "outputs": []
    },
    {
      "cell_type": "code",
      "metadata": {
        "id": "YYqsQMvYqKjZ"
      },
      "source": [
        "#subsetting the useful parts of the sample users' preferences\n",
        "sampleUserBookData <- subset(SampleUser, select = c(V1, title, Summary))"
      ],
      "execution_count": null,
      "outputs": []
    },
    {
      "cell_type": "code",
      "metadata": {
        "id": "vGJ8WUPpqPp4"
      },
      "source": [
        "#merge summary and top words of the specific topic into one column/cell\n",
        "sampleUserBookData <- transform(sampleUserBookData, text=paste(Summary, V1, sep=\" \"))\n",
        "\n",
        "sampleUserBookData <- subset(sampleUserBookData, select = c(title, text))\n",
        "\n",
        "bookText<- subset(bookText, select = c(text, title))"
      ],
      "execution_count": null,
      "outputs": []
    },
    {
      "cell_type": "code",
      "metadata": {
        "id": "ZnEJQRkyqRAm"
      },
      "source": [
        "#putting the data from sample users' faves and classical book data into one dataframe\n",
        "FbookText <- rbind(bookText, sampleUserBookData)"
      ],
      "execution_count": null,
      "outputs": []
    },
    {
      "cell_type": "code",
      "metadata": {
        "id": "kH0NgIH_qZHo"
      },
      "source": [
        "#common names that are going to be taken out alongside the stopwords\n",
        "names <- read.csv(\"names.csv\")\n",
        "\n",
        "names$name <- tolower(names$name)"
      ],
      "execution_count": null,
      "outputs": []
    },
    {
      "cell_type": "code",
      "metadata": {
        "id": "B67kef0Oqe_s"
      },
      "source": [
        "#additional stopwords list for removal for classical books\n",
        "additionalWords <- read.csv(\"AdditionalWordsToRemove.csv\")\n",
        "\n",
        "additionalWords$Words <- tolower(additionalWords$Words)\n",
        "\n",
        "additionalWords\n"
      ],
      "execution_count": null,
      "outputs": []
    },
    {
      "cell_type": "code",
      "metadata": {
        "id": "E8aJasfLq61k"
      },
      "source": [
        "#additional stopwords list for removal for modern books\n",
        "RemoveWords <- read.csv(\"Remove.csv\")\n",
        "\n",
        "RemoveWords$Words <- tolower(RemoveWords$Words)\n",
        "\n",
        "RemoveWords "
      ],
      "execution_count": null,
      "outputs": []
    },
    {
      "cell_type": "code",
      "metadata": {
        "id": "Aj02ajobq7UZ"
      },
      "source": [
        "#cleaning up the data frame to make it ready for the dtm\n",
        "by_chapter <- FbookText %>%\n",
        "  group_by(title) %>%\n",
        "  ungroup()\n",
        "\n",
        "# split into words\n",
        "\n",
        "by_chapter_word <- by_chapter %>%\n",
        "  unnest_tokens(word, text)\n"
      ],
      "execution_count": null,
      "outputs": []
    },
    {
      "cell_type": "code",
      "metadata": {
        "id": "jjkup_tJrB0l"
      },
      "source": [
        "# find document-word counts, remove stopwords\n",
        "word_counts <- by_chapter_word %>%\n",
        "  filter(!word %in% c(stop_words$word, names$name, additionalWords$Words, RemoveWords$Words)) %>%\n",
        "  count(title, word, sort = TRUE) %>%\n",
        "  ungroup()\n"
      ],
      "execution_count": null,
      "outputs": []
    },
    {
      "cell_type": "code",
      "metadata": {
        "id": "z-sy10qmrMG4"
      },
      "source": [
        "#TF-IDF to reduce the amount of words, only those with a tf-idf score thats above average are kept\n",
        "word_counts = word_counts %>% bind_tf_idf(word, title, n) %>%\n",
        "  arrange(desc(tf_idf))\n",
        "\n",
        "avg = mean(word_counts$tf_idf)\n",
        "\n",
        "word_counts = subset(word_counts, tf_idf>avg)"
      ],
      "execution_count": null,
      "outputs": []
    },
    {
      "cell_type": "code",
      "metadata": {
        "id": "bjPN0dyvrPLM"
      },
      "source": [
        "##a list of all the book titles used for the current run\n",
        "documents <- as.data.table(unique(word_counts$title))"
      ],
      "execution_count": null,
      "outputs": []
    },
    {
      "cell_type": "code",
      "metadata": {
        "id": "XmC_zmJarVdg"
      },
      "source": [
        "#document term matrix\n",
        "chapters_dtm <- word_counts %>%\n",
        "  cast_dtm(title, word, n)\n",
        "\n",
        "chapters_dtm\n",
        "\n",
        "m2 <- as.matrix(chapters_dtm)"
      ],
      "execution_count": null,
      "outputs": []
    },
    {
      "cell_type": "code",
      "metadata": {
        "id": "1uV1qstLrXrU"
      },
      "source": [
        "#LDA\n",
        "\n",
        "chapters_lda <- LDA(chapters_dtm, k = 9, control = list(seed = 100))\n",
        "chapters_lda"
      ],
      "execution_count": null,
      "outputs": []
    },
    {
      "cell_type": "code",
      "metadata": {
        "id": "-B_gIUiArfE1"
      },
      "source": [
        "#assigning topics for each of the books\n",
        "chapters_gamma <- tidy(chapters_lda, matrix = \"gamma\")\n",
        "chapters_gamma\n",
        "\n",
        "chapters_gamma <- chapters_gamma %>%\n",
        "  separate(document, c(\"title\"), sep = \"_\", convert = TRUE)\n",
        "\n",
        "chapter_classifications <- chapters_gamma %>%\n",
        "  group_by(title) %>%\n",
        "  slice_max(gamma) %>%\n",
        "  ungroup()\n",
        "\n",
        "book_topics <- chapter_classifications %>%\n",
        "  count(title, topic) %>%\n",
        "  group_by(title) %>%\n",
        "  top_n(1, n) %>%\n",
        "  ungroup() %>%\n",
        "  transmute(consensus = title, topic)\n",
        "\n",
        "\n",
        "names(book_topics)[1] <- \"title\"\n",
        "names(book_topics)[2] <- \"LDAtopics\""
      ],
      "execution_count": null,
      "outputs": []
    },
    {
      "cell_type": "code",
      "metadata": {
        "id": "_jExqR3Srl4C"
      },
      "source": [
        "#see which topics were assigned for the books liked by the user \n",
        "FavBtopics <- merge(x=book_topics, y=sampleUserBookData, by = \"title\", all.y=TRUE)\n",
        "\n",
        "FavBtopics"
      ],
      "execution_count": null,
      "outputs": []
    },
    {
      "cell_type": "code",
      "metadata": {
        "id": "bJ-6-HxhrskX"
      },
      "source": [
        "#makes a list of the topics, one number for each of the books in the list of favourite books by the sample user\n",
        "Topic <- FavBtopics$LDAtopics"
      ],
      "execution_count": null,
      "outputs": []
    },
    {
      "cell_type": "code",
      "metadata": {
        "id": "VoEbZI_RrvbX"
      },
      "source": [
        "#puts all of the books with the same topic as the books liked by the user into one dataframe\n",
        "SimilarBooksByTopic <- data.frame()\n",
        "\n",
        "j=1\n",
        "TopicNum <- length(Topic)\n",
        "for (j in 1:TopicNum){\n",
        "  sample <- filter(book_topics, LDAtopics %in% c(Topic[j]))\n",
        "  \n",
        "  SimilarBooksByTopic<- rbind(SimilarBooksByTopic, sample)\n",
        "  \n",
        "  SimilarBooksByTopic <- unique(SimilarBooksByTopic)\n",
        "}"
      ],
      "execution_count": null,
      "outputs": []
    },
    {
      "cell_type": "code",
      "metadata": {
        "id": "1vL2KcSHrxt4"
      },
      "source": [
        "#to the dataframe containing only books of the same topic, the words related to those books are added back in\n",
        "word_counts2 <- merge(x=word_counts, y=SimilarBooksByTopic, by = \"title\", all.y=TRUE)\n"
      ],
      "execution_count": null,
      "outputs": []
    },
    {
      "cell_type": "code",
      "metadata": {
        "id": "LsXEKjbXsAaO"
      },
      "source": [
        "#dtm of only the books that have the same topic\n",
        "similarB_dtm <- word_counts2 %>%\n",
        "  cast_dtm(title, word, n)\n",
        "\n",
        "similarB_dtm\n",
        "\n",
        "m2Sim <- as.matrix(similarB_dtm)"
      ],
      "execution_count": null,
      "outputs": []
    },
    {
      "cell_type": "code",
      "metadata": {
        "id": "R8x6I4FWsDSo"
      },
      "source": [
        "#cosine similarity matrix\n",
        "sim <- m2Sim / sqrt(rowSums(m2Sim * m2Sim))\n",
        "sim <- sim %*% t(sim)"
      ],
      "execution_count": null,
      "outputs": []
    },
    {
      "cell_type": "code",
      "metadata": {
        "id": "VVZE_DpYsG-q"
      },
      "source": [
        "#list of the titles of the books 'liked' by the sample user\n",
        "LikedBooks <- sampleUserBookData$title\n",
        "\n",
        "#the number of books in the list\n",
        "numB <- length(LikedBooks)\n"
      ],
      "execution_count": null,
      "outputs": []
    },
    {
      "cell_type": "code",
      "metadata": {
        "id": "U4yfoxPesK16"
      },
      "source": [
        "#a for loop to add the 5 most similar books into a dataframe, loops through each of the books 'liked' by the user and keeps adding 5 for each of the books\n",
        "recommendations <- data.frame()\n",
        "\n",
        "k=1\n",
        "for (k in 1:numB){\n",
        "  simBooksSample <- subset(sim, select=c(LikedBooks[k]))\n",
        "  \n",
        "  simBooksS22 <- simBooksSample[order(-simBooksSample[,1]),]\n",
        "  \n",
        "  simBooksS22 <- as.data.frame(simBooksS22)\n",
        "  \n",
        "  setDT(simBooksS22, keep.rownames = \"titles\")[]\n",
        "  \n",
        "  simBooksS22 <-filter(simBooksS22, !titles %in% c(sampleUserBookData$title))\n",
        "  \n",
        "  RecBooks <- simBooksS22 %>%\n",
        "    slice(1:5)\n",
        "\n",
        "  recommendations <- rbind(recommendations, RecBooks)\n",
        "  \n",
        "}\n"
      ],
      "execution_count": null,
      "outputs": []
    },
    {
      "cell_type": "code",
      "metadata": {
        "id": "l8t_N3LnsQOb"
      },
      "source": [
        "#row names are made into the 1st column\n",
        "setDT(recommendations, keep.rownames = \"titles\")[]"
      ],
      "execution_count": null,
      "outputs": []
    },
    {
      "cell_type": "code",
      "metadata": {
        "id": "gXuVrNt3sTyY"
      },
      "source": [
        "#if the list contains any of the books originally in the user's 'favourites' list, they get removed here\n",
        "recommendations <- filter(recommendations, !titles %in% c(sampleUserBookData$title))"
      ],
      "execution_count": null,
      "outputs": []
    },
    {
      "cell_type": "code",
      "metadata": {
        "id": "99rDn8mUsWeK"
      },
      "source": [
        "#the final remaining books are sorted, the ones with the highest similarity rating at the top\n",
        "toRec <- recommendations[order(-recommendations[,2]),]"
      ],
      "execution_count": null,
      "outputs": []
    },
    {
      "cell_type": "code",
      "metadata": {
        "id": "IVEOywM6sbDE"
      },
      "source": [
        "#top 5 similar books get picked\n",
        "toRec <- toRec %>%\n",
        "  slice(1:5)\n"
      ],
      "execution_count": null,
      "outputs": []
    },
    {
      "cell_type": "code",
      "metadata": {
        "id": "zrK_0iNLxxFt"
      },
      "source": [
        "fRec<- subset(toRec, select = c(titles, simBooksS22))\n",
        "names(fRec)[2] <- \"Similarity\"\n",
        "fRec"
      ],
      "execution_count": null,
      "outputs": []
    },
    {
      "cell_type": "code",
      "metadata": {
        "id": "TgEnxGjOxzyX"
      },
      "source": [
        "write.csv(fRec,'recommendations&similarities5.csv')"
      ],
      "execution_count": null,
      "outputs": []
    },
    {
      "cell_type": "code",
      "metadata": {
        "id": "wRX1z6_psdTK"
      },
      "source": [
        "#the dataframe with the final 5 recommendations\n",
        "finalRecommendations <- subset(toRec, select = c(titles))\n",
        "\n",
        "finalRecommendations"
      ],
      "execution_count": null,
      "outputs": []
    },
    {
      "cell_type": "code",
      "metadata": {
        "id": "a-41oaCBx0O2"
      },
      "source": [
        "write.csv(finalRecommendations,'recommendations5.csv')"
      ],
      "execution_count": null,
      "outputs": []
    }
  ]
}