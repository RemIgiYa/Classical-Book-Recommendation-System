{
  "nbformat": 4,
  "nbformat_minor": 0,
  "metadata": {
    "colab": {
      "name": "ModernBooksLDA.ipynb",
      "provenance": []
    },
    "kernelspec": {
      "name": "ir",
      "display_name": "R"
    }
  },
  "cells": [
    {
      "cell_type": "code",
      "metadata": {
        "id": "XoKirLsDsi9-"
      },
      "source": [
        "#this line is needed when running the code in Google Colab because otherwise the data.table package is not going to work\n",
        "system2('sudo', 'apt-get install libgsl0-dev')\n",
        "\n",
        "install.packages(\"data.table\")\n",
        "install.packages(\"tm\")\n",
        "install.packages(\"topicmodels\")\n",
        "install.packages(\"tidytext\")\n",
        "install.packages(\"gutenbergr\")\n",
        "install.packages(\"reshape2\")\n",
        "library(gutenbergr)\n",
        "library(curl)\n",
        "library(dplyr)\n",
        "library(ggplot2)\n",
        "library(data.table)\n",
        "library(tm)\n",
        "library(topicmodels)\n",
        "library(tidytext)\n",
        "library(tidyr)\n",
        "library(stringr)\n",
        "library(scales)\n",
        "library(reshape2)\n",
        "library(rmarkdown)\n",
        "library(tidyverse)"
      ],
      "execution_count": null,
      "outputs": []
    },
    {
      "cell_type": "code",
      "metadata": {
        "id": "zc7KrZastP1_"
      },
      "source": [
        "books <- read.csv(\"books.csv\")\n",
        "\n",
        "by_words <- books %>%\n",
        "  unnest_tokens(word, Summary)\n",
        "\n",
        "\n",
        "by_words"
      ],
      "execution_count": null,
      "outputs": []
    },
    {
      "cell_type": "code",
      "metadata": {
        "id": "utE1zHVb69EH"
      },
      "source": [
        "write.csv(by_words,'SummaryWords.csv')"
      ],
      "execution_count": null,
      "outputs": []
    },
    {
      "cell_type": "code",
      "metadata": {
        "id": "GoUVL8REzcax"
      },
      "source": [
        "names <- read.csv(\"names.csv\")\n",
        "names$name <- tolower(names$name)\n",
        "names"
      ],
      "execution_count": null,
      "outputs": []
    },
    {
      "cell_type": "code",
      "metadata": {
        "id": "x51Gj1Ecl43a"
      },
      "source": [
        "#additional stopwords to remove\n",
        "additionalWords <- read.csv(\"Remove.csv\")\n",
        "\n",
        "additionalWords$Words <- tolower(additionalWords$Words)\n",
        "\n",
        "additionalWords"
      ],
      "execution_count": null,
      "outputs": []
    },
    {
      "cell_type": "code",
      "metadata": {
        "id": "-LRQ0xfBuRYO"
      },
      "source": [
        "word_counts <- by_words %>%\n",
        "  filter(!word %in% c(stop_words$word, names$name, additionalWords$Words)) %>%\n",
        "  count(Title, word, sort = TRUE) %>%\n",
        "  ungroup()\n",
        "\n",
        "word_counts"
      ],
      "execution_count": null,
      "outputs": []
    },
    {
      "cell_type": "code",
      "metadata": {
        "id": "1dpiBtKG7KuE"
      },
      "source": [
        "write.csv(word_counts,'SummaryWordcounts.csv')"
      ],
      "execution_count": null,
      "outputs": []
    },
    {
      "cell_type": "code",
      "metadata": {
        "id": "IGFLPSM6wVum"
      },
      "source": [
        "word_counts = word_counts %>% bind_tf_idf(word, Title, n) %>%\n",
        "  arrange(desc(tf_idf))\n",
        "\n",
        "\n",
        "avg = mean(word_counts$tf_idf)\n",
        "\n",
        "\n",
        "word_counts = subset(word_counts, tf_idf>avg)"
      ],
      "execution_count": null,
      "outputs": []
    },
    {
      "cell_type": "code",
      "metadata": {
        "id": "PP-moRRV7c3T"
      },
      "source": [
        "word_counts"
      ],
      "execution_count": null,
      "outputs": []
    },
    {
      "cell_type": "code",
      "metadata": {
        "id": "-GbdYtHW7aXL"
      },
      "source": [
        "write.csv(word_counts,'SummaryWordcountsAfterTFIDF.csv')"
      ],
      "execution_count": null,
      "outputs": []
    },
    {
      "cell_type": "code",
      "metadata": {
        "id": "MSAhvYSIudTW"
      },
      "source": [
        "chapters_dtm <- word_counts %>%\n",
        "  cast_dtm(Title, word, n)\n",
        "\n",
        "chapters_dtm"
      ],
      "execution_count": null,
      "outputs": []
    },
    {
      "cell_type": "code",
      "metadata": {
        "id": "Mv0V4WNcugyX"
      },
      "source": [
        "chapters_lda <- LDA(chapters_dtm, k = 9, control = list(seed = 10))\n",
        "chapters_lda"
      ],
      "execution_count": null,
      "outputs": []
    },
    {
      "cell_type": "code",
      "metadata": {
        "id": "bmx8VE0lvgLe"
      },
      "source": [
        "topics <- tidy(chapters_lda, matrix = \"beta\")\n",
        "topics"
      ],
      "execution_count": null,
      "outputs": []
    },
    {
      "cell_type": "code",
      "metadata": {
        "id": "Cm32AbT10QSB"
      },
      "source": [
        "write.csv(topics,'SummaryTopics.csv')"
      ],
      "execution_count": null,
      "outputs": []
    },
    {
      "cell_type": "code",
      "metadata": {
        "id": "BgLjPPSjvljz"
      },
      "source": [
        "#top5 words for each of the topics\n",
        "top_terms <- topics %>%\n",
        "  group_by(topic) %>%\n",
        "  top_n(5, beta) %>%\n",
        "  ungroup() %>%\n",
        "  arrange(topic, -beta)\n",
        "\n",
        "top_terms"
      ],
      "execution_count": null,
      "outputs": []
    },
    {
      "cell_type": "code",
      "metadata": {
        "id": "nbmypKj57z6Z"
      },
      "source": [
        "write.csv(top_terms,'SummaryTopTermsbyTopic.csv')"
      ],
      "execution_count": null,
      "outputs": []
    },
    {
      "cell_type": "code",
      "metadata": {
        "id": "vwO6nGChvsHS"
      },
      "source": [
        "#visualisation for top words per topic\n",
        "png(file=\"topWordsPerTopic.png\" ,width=4000,height=4000, res = 300, bg=\"white\")\n",
        "top_terms %>%\n",
        "  mutate(term = reorder_within(term, beta, topic)) %>%\n",
        "  ggplot(aes(beta, term, fill = factor(topic))) +\n",
        "  geom_col(show.legend = FALSE) +\n",
        "  facet_wrap(~ topic, scales = \"free\") +\n",
        "  scale_y_reordered()\n",
        "dev.off()"
      ],
      "execution_count": null,
      "outputs": []
    },
    {
      "cell_type": "code",
      "metadata": {
        "id": "yid9MSLHnvyo"
      },
      "source": [
        "chapters_gamma <- tidy(chapters_lda, matrix = \"gamma\")\n",
        "chapters_gamma\n",
        "\n",
        "\n",
        "chapters_gamma <- chapters_gamma %>%\n",
        "  separate(document, c(\"title\", \"chapter\"), sep = \"_\", convert = TRUE)\n",
        "\n",
        "chapters_gamma"
      ],
      "execution_count": null,
      "outputs": []
    },
    {
      "cell_type": "code",
      "metadata": {
        "id": "1FItUZb1n4OZ"
      },
      "source": [
        "chapter_classifications <- chapters_gamma %>%\n",
        "  group_by(title, chapter) %>%\n",
        "  slice_max(gamma) %>%\n",
        "  ungroup()\n",
        "\n",
        "chapter_classifications"
      ],
      "execution_count": null,
      "outputs": []
    },
    {
      "cell_type": "code",
      "metadata": {
        "id": "4SLGpWNIn43-"
      },
      "source": [
        "book_topics <- chapter_classifications %>%\n",
        "  count(title, topic) %>%\n",
        "  group_by(title) %>%\n",
        "  top_n(1, n) %>%\n",
        "  ungroup() %>%\n",
        "  transmute(consensus = title, topic)"
      ],
      "execution_count": null,
      "outputs": []
    },
    {
      "cell_type": "code",
      "metadata": {
        "id": "JgOZ6tE4n7ar"
      },
      "source": [
        "names(book_topics)[1] <- \"title\"\n",
        "names(book_topics)[2] <- \"LDAtopics\"\n",
        "\n",
        "write.csv(book_topics, 'LDAtopics.csv')"
      ],
      "execution_count": null,
      "outputs": []
    }
  ]
}